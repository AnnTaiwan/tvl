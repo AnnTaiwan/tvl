{
 "cells": [
  {
   "cell_type": "code",
   "execution_count": 3,
   "id": "72a29d4e",
   "metadata": {},
   "outputs": [],
   "source": [
    "import google.generativeai as genai\n",
    "import os\n",
    "from dotenv import load_dotenv\n",
    "load_dotenv()  # load .env document\n",
    "\n",
    "genai.configure(api_key=os.environ[\"GEMINI_API_KEY\"])\n",
    "\n",
    "model = genai.GenerativeModel('gemini-1.5-flash')"
   ]
  },
  {
   "cell_type": "code",
   "execution_count": 5,
   "id": "55ea22bb",
   "metadata": {},
   "outputs": [],
   "source": [
    "from tvl_enc.tvl import TVL, ModalityType\n",
    "import torch\n",
    "import numpy as np\n",
    "from PIL import Image\n",
    "import matplotlib.pyplot as plt\n",
    "\n",
    "# Set device to GPU if available, otherwise use CPU\n",
    "device = \"cuda\" if torch.cuda.is_available() else \"cpu\""
   ]
  },
  {
   "cell_type": "code",
   "execution_count": 6,
   "id": "e5ff95c4",
   "metadata": {},
   "outputs": [],
   "source": [
    "MODEL_IDX = 1 # select below model\n",
    "model_list = {\n",
    "    \"vit_tiny_patch16_224\":r\"D:\\NSYSU_Fourth_grade\\ADV_ML_Final_Project\\checkpoints\\tvl_enc_vittiny.pth\",\n",
    "    \"vit_small_patch32_224\":r\"D:\\NSYSU_Fourth_grade\\ADV_ML_Final_Project\\checkpoints\\tvl_enc_vits.pth\",\n",
    "    \"vit_base_patch16_224\":r\"D:\\NSYSU_Fourth_grade\\ADV_ML_Final_Project\\checkpoints\\tvl_enc_vitb.pth\", # 2nd good\n",
    "}\n",
    "# Create TVL model instance with active modalities\n",
    "model_tvl = TVL(\n",
    "    active_modalities=[ModalityType.VISION, ModalityType.TACTILE, ModalityType.TEXT],\n",
    "    tactile_model=list(model_list.keys())[MODEL_IDX]\n",
    ").to(device)\n",
    "model_tvl.eval()\n",
    "\n",
    "# Load tactile encoder checkpoint\n",
    "ckpt_path = list(model_list.values())[MODEL_IDX]\n",
    "state_dict = torch.load(ckpt_path, map_location=device, weights_only=False)\n",
    "model_tvl.load_state_dict(state_dict, strict=False)\n",
    "\n",
    "# Load vision preprocessing transform (from OpenCLIP)\n",
    "vision_preprocess = model_tvl.vision_preprocess"
   ]
  },
  {
   "cell_type": "code",
   "execution_count": 4,
   "id": "25c65dc0",
   "metadata": {},
   "outputs": [
    {
     "name": "stdout",
     "output_type": "stream",
     "text": [
      "There are 365 days in a common year and 366 days in a leap year.\n",
      "\n"
     ]
    }
   ],
   "source": [
    "response = model.generate_content(\"Tell me how many days in a year.\")\n",
    "print(response.text)"
   ]
  }
 ],
 "metadata": {
  "kernelspec": {
   "display_name": "tvl",
   "language": "python",
   "name": "python3"
  },
  "language_info": {
   "codemirror_mode": {
    "name": "ipython",
    "version": 3
   },
   "file_extension": ".py",
   "mimetype": "text/x-python",
   "name": "python",
   "nbconvert_exporter": "python",
   "pygments_lexer": "ipython3",
   "version": "3.10.16"
  }
 },
 "nbformat": 4,
 "nbformat_minor": 5
}
